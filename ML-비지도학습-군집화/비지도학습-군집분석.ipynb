{
 "cells": [
  {
   "cell_type": "markdown",
   "metadata": {
    "colab_type": "text",
    "id": "kxmD9kYf4CPV"
   },
   "source": [
    "# 비지도학습 - 군집 분석(Clusetring)\n",
    "\n",
    "## Clustering\n",
    "+ k-means Clustering\n",
    "+ Hierarchical Clustering\n",
    "\n",
    "## Evaluation\n",
    "+ Silhouette"
   ]
  },
  {
   "cell_type": "markdown",
   "metadata": {},
   "source": [
    "### 패키지 설치"
   ]
  },
  {
   "cell_type": "code",
   "execution_count": 24,
   "metadata": {},
   "outputs": [],
   "source": [
    "import numpy as np\n",
    "import pandas as pd\n",
    "\n",
    "import sklearn\n",
    "import matplotlib.pyplot as plt"
   ]
  },
  {
   "cell_type": "code",
   "execution_count": 22,
   "metadata": {},
   "outputs": [],
   "source": [
    "# 경고 무시\n",
    "import warnings\n",
    "warnings.filterwarnings('ignore')"
   ]
  },
  {
   "cell_type": "markdown",
   "metadata": {},
   "source": [
    "### wine 데이타셋 불러오기\n",
    "- 와인 데이터셋 : 알콜, 말산, 페놀 등 13개의 변수, 1,2,3 와인 등급(class) 변수로 구성"
   ]
  },
  {
   "cell_type": "code",
   "execution_count": 25,
   "metadata": {},
   "outputs": [],
   "source": [
    "from sklearn.datasets import load_wine\n",
    "wine = load_wine()"
   ]
  },
  {
   "cell_type": "markdown",
   "metadata": {},
   "source": [
    "### 데이타셋 살펴보기"
   ]
  },
  {
   "cell_type": "code",
   "execution_count": 26,
   "metadata": {},
   "outputs": [
    {
     "name": "stdout",
     "output_type": "stream",
     "text": [
      ".. _wine_dataset:\n",
      "\n",
      "Wine recognition dataset\n",
      "------------------------\n",
      "\n",
      "**Data Set Characteristics:**\n",
      "\n",
      "    :Number of Instances: 178 (50 in each of three classes)\n",
      "    :Number of Attributes: 13 numeric, predictive attributes and the class\n",
      "    :Attribute Information:\n",
      " \t\t- Alcohol\n",
      " \t\t- Malic acid\n",
      " \t\t- Ash\n",
      "\t\t- Alcalinity of ash  \n",
      " \t\t- Magnesium\n",
      "\t\t- Total phenols\n",
      " \t\t- Flavanoids\n",
      " \t\t- Nonflavanoid phenols\n",
      " \t\t- Proanthocyanins\n",
      "\t\t- Color intensity\n",
      " \t\t- Hue\n",
      " \t\t- OD280/OD315 of diluted wines\n",
      " \t\t- Proline\n",
      "\n",
      "    - class:\n",
      "            - class_0\n",
      "            - class_1\n",
      "            - class_2\n",
      "\t\t\n",
      "    :Summary Statistics:\n",
      "    \n",
      "    ============================= ==== ===== ======= =====\n",
      "                                   Min   Max   Mean     SD\n",
      "    ============================= ==== ===== ======= =====\n",
      "    Alcohol:                      11.0  14.8    13.0   0.8\n",
      "    Malic Acid:                   0.74  5.80    2.34  1.12\n",
      "    Ash:                          1.36  3.23    2.36  0.27\n",
      "    Alcalinity of Ash:            10.6  30.0    19.5   3.3\n",
      "    Magnesium:                    70.0 162.0    99.7  14.3\n",
      "    Total Phenols:                0.98  3.88    2.29  0.63\n",
      "    Flavanoids:                   0.34  5.08    2.03  1.00\n",
      "    Nonflavanoid Phenols:         0.13  0.66    0.36  0.12\n",
      "    Proanthocyanins:              0.41  3.58    1.59  0.57\n",
      "    Colour Intensity:              1.3  13.0     5.1   2.3\n",
      "    Hue:                          0.48  1.71    0.96  0.23\n",
      "    OD280/OD315 of diluted wines: 1.27  4.00    2.61  0.71\n",
      "    Proline:                       278  1680     746   315\n",
      "    ============================= ==== ===== ======= =====\n",
      "\n",
      "    :Missing Attribute Values: None\n",
      "    :Class Distribution: class_0 (59), class_1 (71), class_2 (48)\n",
      "    :Creator: R.A. Fisher\n",
      "    :Donor: Michael Marshall (MARSHALL%PLU@io.arc.nasa.gov)\n",
      "    :Date: July, 1988\n",
      "\n",
      "This is a copy of UCI ML Wine recognition datasets.\n",
      "https://archive.ics.uci.edu/ml/machine-learning-databases/wine/wine.data\n",
      "\n",
      "The data is the results of a chemical analysis of wines grown in the same\n",
      "region in Italy by three different cultivators. There are thirteen different\n",
      "measurements taken for different constituents found in the three types of\n",
      "wine.\n",
      "\n",
      "Original Owners: \n",
      "\n",
      "Forina, M. et al, PARVUS - \n",
      "An Extendible Package for Data Exploration, Classification and Correlation. \n",
      "Institute of Pharmaceutical and Food Analysis and Technologies,\n",
      "Via Brigata Salerno, 16147 Genoa, Italy.\n",
      "\n",
      "Citation:\n",
      "\n",
      "Lichman, M. (2013). UCI Machine Learning Repository\n",
      "[https://archive.ics.uci.edu/ml]. Irvine, CA: University of California,\n",
      "School of Information and Computer Science. \n",
      "\n",
      ".. topic:: References\n",
      "\n",
      "  (1) S. Aeberhard, D. Coomans and O. de Vel, \n",
      "  Comparison of Classifiers in High Dimensional Settings, \n",
      "  Tech. Rep. no. 92-02, (1992), Dept. of Computer Science and Dept. of  \n",
      "  Mathematics and Statistics, James Cook University of North Queensland. \n",
      "  (Also submitted to Technometrics). \n",
      "\n",
      "  The data was used with many others for comparing various \n",
      "  classifiers. The classes are separable, though only RDA \n",
      "  has achieved 100% correct classification. \n",
      "  (RDA : 100%, QDA 99.4%, LDA 98.9%, 1NN 96.1% (z-transformed data)) \n",
      "  (All results using the leave-one-out technique) \n",
      "\n",
      "  (2) S. Aeberhard, D. Coomans and O. de Vel, \n",
      "  \"THE CLASSIFICATION PERFORMANCE OF RDA\" \n",
      "  Tech. Rep. no. 92-01, (1992), Dept. of Computer Science and Dept. of \n",
      "  Mathematics and Statistics, James Cook University of North Queensland. \n",
      "  (Also submitted to Journal of Chemometrics).\n",
      "\n"
     ]
    }
   ],
   "source": [
    "print(wine.DESCR)"
   ]
  },
  {
   "cell_type": "markdown",
   "metadata": {},
   "source": [
    "### train, test data 분류"
   ]
  },
  {
   "cell_type": "code",
   "execution_count": 54,
   "metadata": {},
   "outputs": [],
   "source": [
    "data = wine.data     # data 컬럼 가져오기\n",
    "label = wine.target  #label 가져오기\n",
    "columns = wine.feature_names"
   ]
  },
  {
   "cell_type": "code",
   "execution_count": 55,
   "metadata": {},
   "outputs": [
    {
     "data": {
      "text/html": [
       "<div>\n",
       "<style scoped>\n",
       "    .dataframe tbody tr th:only-of-type {\n",
       "        vertical-align: middle;\n",
       "    }\n",
       "\n",
       "    .dataframe tbody tr th {\n",
       "        vertical-align: top;\n",
       "    }\n",
       "\n",
       "    .dataframe thead th {\n",
       "        text-align: right;\n",
       "    }\n",
       "</style>\n",
       "<table border=\"1\" class=\"dataframe\">\n",
       "  <thead>\n",
       "    <tr style=\"text-align: right;\">\n",
       "      <th></th>\n",
       "      <th>alcohol</th>\n",
       "      <th>malic_acid</th>\n",
       "      <th>ash</th>\n",
       "      <th>alcalinity_of_ash</th>\n",
       "      <th>magnesium</th>\n",
       "      <th>total_phenols</th>\n",
       "      <th>flavanoids</th>\n",
       "      <th>nonflavanoid_phenols</th>\n",
       "      <th>proanthocyanins</th>\n",
       "      <th>color_intensity</th>\n",
       "      <th>hue</th>\n",
       "      <th>od280/od315_of_diluted_wines</th>\n",
       "      <th>proline</th>\n",
       "    </tr>\n",
       "  </thead>\n",
       "  <tbody>\n",
       "    <tr>\n",
       "      <th>0</th>\n",
       "      <td>14.23</td>\n",
       "      <td>1.71</td>\n",
       "      <td>2.43</td>\n",
       "      <td>15.6</td>\n",
       "      <td>127.0</td>\n",
       "      <td>2.80</td>\n",
       "      <td>3.06</td>\n",
       "      <td>0.28</td>\n",
       "      <td>2.29</td>\n",
       "      <td>5.64</td>\n",
       "      <td>1.04</td>\n",
       "      <td>3.92</td>\n",
       "      <td>1065.0</td>\n",
       "    </tr>\n",
       "    <tr>\n",
       "      <th>1</th>\n",
       "      <td>13.20</td>\n",
       "      <td>1.78</td>\n",
       "      <td>2.14</td>\n",
       "      <td>11.2</td>\n",
       "      <td>100.0</td>\n",
       "      <td>2.65</td>\n",
       "      <td>2.76</td>\n",
       "      <td>0.26</td>\n",
       "      <td>1.28</td>\n",
       "      <td>4.38</td>\n",
       "      <td>1.05</td>\n",
       "      <td>3.40</td>\n",
       "      <td>1050.0</td>\n",
       "    </tr>\n",
       "    <tr>\n",
       "      <th>2</th>\n",
       "      <td>13.16</td>\n",
       "      <td>2.36</td>\n",
       "      <td>2.67</td>\n",
       "      <td>18.6</td>\n",
       "      <td>101.0</td>\n",
       "      <td>2.80</td>\n",
       "      <td>3.24</td>\n",
       "      <td>0.30</td>\n",
       "      <td>2.81</td>\n",
       "      <td>5.68</td>\n",
       "      <td>1.03</td>\n",
       "      <td>3.17</td>\n",
       "      <td>1185.0</td>\n",
       "    </tr>\n",
       "    <tr>\n",
       "      <th>3</th>\n",
       "      <td>14.37</td>\n",
       "      <td>1.95</td>\n",
       "      <td>2.50</td>\n",
       "      <td>16.8</td>\n",
       "      <td>113.0</td>\n",
       "      <td>3.85</td>\n",
       "      <td>3.49</td>\n",
       "      <td>0.24</td>\n",
       "      <td>2.18</td>\n",
       "      <td>7.80</td>\n",
       "      <td>0.86</td>\n",
       "      <td>3.45</td>\n",
       "      <td>1480.0</td>\n",
       "    </tr>\n",
       "    <tr>\n",
       "      <th>4</th>\n",
       "      <td>13.24</td>\n",
       "      <td>2.59</td>\n",
       "      <td>2.87</td>\n",
       "      <td>21.0</td>\n",
       "      <td>118.0</td>\n",
       "      <td>2.80</td>\n",
       "      <td>2.69</td>\n",
       "      <td>0.39</td>\n",
       "      <td>1.82</td>\n",
       "      <td>4.32</td>\n",
       "      <td>1.04</td>\n",
       "      <td>2.93</td>\n",
       "      <td>735.0</td>\n",
       "    </tr>\n",
       "  </tbody>\n",
       "</table>\n",
       "</div>"
      ],
      "text/plain": [
       "   alcohol  malic_acid   ash  alcalinity_of_ash  magnesium  total_phenols  \\\n",
       "0    14.23        1.71  2.43               15.6      127.0           2.80   \n",
       "1    13.20        1.78  2.14               11.2      100.0           2.65   \n",
       "2    13.16        2.36  2.67               18.6      101.0           2.80   \n",
       "3    14.37        1.95  2.50               16.8      113.0           3.85   \n",
       "4    13.24        2.59  2.87               21.0      118.0           2.80   \n",
       "\n",
       "   flavanoids  nonflavanoid_phenols  proanthocyanins  color_intensity   hue  \\\n",
       "0        3.06                  0.28             2.29             5.64  1.04   \n",
       "1        2.76                  0.26             1.28             4.38  1.05   \n",
       "2        3.24                  0.30             2.81             5.68  1.03   \n",
       "3        3.49                  0.24             2.18             7.80  0.86   \n",
       "4        2.69                  0.39             1.82             4.32  1.04   \n",
       "\n",
       "   od280/od315_of_diluted_wines  proline  \n",
       "0                          3.92   1065.0  \n",
       "1                          3.40   1050.0  \n",
       "2                          3.17   1185.0  \n",
       "3                          3.45   1480.0  \n",
       "4                          2.93    735.0  "
      ]
     },
     "execution_count": 55,
     "metadata": {},
     "output_type": "execute_result"
    }
   ],
   "source": [
    "data = pd.DataFrame(data, columns = columns)\n",
    "data.head()"
   ]
  },
  {
   "cell_type": "code",
   "execution_count": 41,
   "metadata": {},
   "outputs": [
    {
     "data": {
      "text/plain": [
       "(178, 13)"
      ]
     },
     "execution_count": 41,
     "metadata": {},
     "output_type": "execute_result"
    }
   ],
   "source": [
    "data.shape"
   ]
  },
  {
   "cell_type": "code",
   "execution_count": 42,
   "metadata": {},
   "outputs": [
    {
     "data": {
      "text/plain": [
       "array([0, 0, 0, 0, 0, 0, 0, 0, 0, 0, 0, 0, 0, 0, 0, 0, 0, 0, 0, 0, 0, 0,\n",
       "       0, 0, 0, 0, 0, 0, 0, 0, 0, 0, 0, 0, 0, 0, 0, 0, 0, 0, 0, 0, 0, 0,\n",
       "       0, 0, 0, 0, 0, 0, 0, 0, 0, 0, 0, 0, 0, 0, 0, 1, 1, 1, 1, 1, 1, 1,\n",
       "       1, 1, 1, 1, 1, 1, 1, 1, 1, 1, 1, 1, 1, 1, 1, 1, 1, 1, 1, 1, 1, 1,\n",
       "       1, 1, 1, 1, 1, 1, 1, 1, 1, 1, 1, 1, 1, 1, 1, 1, 1, 1, 1, 1, 1, 1,\n",
       "       1, 1, 1, 1, 1, 1, 1, 1, 1, 1, 1, 1, 1, 1, 1, 1, 1, 1, 1, 1, 2, 2,\n",
       "       2, 2, 2, 2, 2, 2, 2, 2, 2, 2, 2, 2, 2, 2, 2, 2, 2, 2, 2, 2, 2, 2,\n",
       "       2, 2, 2, 2, 2, 2, 2, 2, 2, 2, 2, 2, 2, 2, 2, 2, 2, 2, 2, 2, 2, 2,\n",
       "       2, 2])"
      ]
     },
     "execution_count": 42,
     "metadata": {},
     "output_type": "execute_result"
    }
   ],
   "source": [
    "wine.target"
   ]
  },
  {
   "cell_type": "code",
   "execution_count": 31,
   "metadata": {},
   "outputs": [
    {
     "data": {
      "text/html": [
       "<div>\n",
       "<style scoped>\n",
       "    .dataframe tbody tr th:only-of-type {\n",
       "        vertical-align: middle;\n",
       "    }\n",
       "\n",
       "    .dataframe tbody tr th {\n",
       "        vertical-align: top;\n",
       "    }\n",
       "\n",
       "    .dataframe thead th {\n",
       "        text-align: right;\n",
       "    }\n",
       "</style>\n",
       "<table border=\"1\" class=\"dataframe\">\n",
       "  <thead>\n",
       "    <tr style=\"text-align: right;\">\n",
       "      <th></th>\n",
       "      <th>alcohol</th>\n",
       "      <th>malic_acid</th>\n",
       "      <th>ash</th>\n",
       "      <th>alcalinity_of_ash</th>\n",
       "      <th>magnesium</th>\n",
       "      <th>total_phenols</th>\n",
       "      <th>flavanoids</th>\n",
       "      <th>nonflavanoid_phenols</th>\n",
       "      <th>proanthocyanins</th>\n",
       "      <th>color_intensity</th>\n",
       "      <th>hue</th>\n",
       "      <th>od280/od315_of_diluted_wines</th>\n",
       "      <th>proline</th>\n",
       "    </tr>\n",
       "  </thead>\n",
       "  <tbody>\n",
       "    <tr>\n",
       "      <th>count</th>\n",
       "      <td>178.000000</td>\n",
       "      <td>178.000000</td>\n",
       "      <td>178.000000</td>\n",
       "      <td>178.000000</td>\n",
       "      <td>178.000000</td>\n",
       "      <td>178.000000</td>\n",
       "      <td>178.000000</td>\n",
       "      <td>178.000000</td>\n",
       "      <td>178.000000</td>\n",
       "      <td>178.000000</td>\n",
       "      <td>178.000000</td>\n",
       "      <td>178.000000</td>\n",
       "      <td>178.000000</td>\n",
       "    </tr>\n",
       "    <tr>\n",
       "      <th>mean</th>\n",
       "      <td>13.000618</td>\n",
       "      <td>2.336348</td>\n",
       "      <td>2.366517</td>\n",
       "      <td>19.494944</td>\n",
       "      <td>99.741573</td>\n",
       "      <td>2.295112</td>\n",
       "      <td>2.029270</td>\n",
       "      <td>0.361854</td>\n",
       "      <td>1.590899</td>\n",
       "      <td>5.058090</td>\n",
       "      <td>0.957449</td>\n",
       "      <td>2.611685</td>\n",
       "      <td>746.893258</td>\n",
       "    </tr>\n",
       "    <tr>\n",
       "      <th>std</th>\n",
       "      <td>0.811827</td>\n",
       "      <td>1.117146</td>\n",
       "      <td>0.274344</td>\n",
       "      <td>3.339564</td>\n",
       "      <td>14.282484</td>\n",
       "      <td>0.625851</td>\n",
       "      <td>0.998859</td>\n",
       "      <td>0.124453</td>\n",
       "      <td>0.572359</td>\n",
       "      <td>2.318286</td>\n",
       "      <td>0.228572</td>\n",
       "      <td>0.709990</td>\n",
       "      <td>314.907474</td>\n",
       "    </tr>\n",
       "    <tr>\n",
       "      <th>min</th>\n",
       "      <td>11.030000</td>\n",
       "      <td>0.740000</td>\n",
       "      <td>1.360000</td>\n",
       "      <td>10.600000</td>\n",
       "      <td>70.000000</td>\n",
       "      <td>0.980000</td>\n",
       "      <td>0.340000</td>\n",
       "      <td>0.130000</td>\n",
       "      <td>0.410000</td>\n",
       "      <td>1.280000</td>\n",
       "      <td>0.480000</td>\n",
       "      <td>1.270000</td>\n",
       "      <td>278.000000</td>\n",
       "    </tr>\n",
       "    <tr>\n",
       "      <th>25%</th>\n",
       "      <td>12.362500</td>\n",
       "      <td>1.602500</td>\n",
       "      <td>2.210000</td>\n",
       "      <td>17.200000</td>\n",
       "      <td>88.000000</td>\n",
       "      <td>1.742500</td>\n",
       "      <td>1.205000</td>\n",
       "      <td>0.270000</td>\n",
       "      <td>1.250000</td>\n",
       "      <td>3.220000</td>\n",
       "      <td>0.782500</td>\n",
       "      <td>1.937500</td>\n",
       "      <td>500.500000</td>\n",
       "    </tr>\n",
       "    <tr>\n",
       "      <th>50%</th>\n",
       "      <td>13.050000</td>\n",
       "      <td>1.865000</td>\n",
       "      <td>2.360000</td>\n",
       "      <td>19.500000</td>\n",
       "      <td>98.000000</td>\n",
       "      <td>2.355000</td>\n",
       "      <td>2.135000</td>\n",
       "      <td>0.340000</td>\n",
       "      <td>1.555000</td>\n",
       "      <td>4.690000</td>\n",
       "      <td>0.965000</td>\n",
       "      <td>2.780000</td>\n",
       "      <td>673.500000</td>\n",
       "    </tr>\n",
       "    <tr>\n",
       "      <th>75%</th>\n",
       "      <td>13.677500</td>\n",
       "      <td>3.082500</td>\n",
       "      <td>2.557500</td>\n",
       "      <td>21.500000</td>\n",
       "      <td>107.000000</td>\n",
       "      <td>2.800000</td>\n",
       "      <td>2.875000</td>\n",
       "      <td>0.437500</td>\n",
       "      <td>1.950000</td>\n",
       "      <td>6.200000</td>\n",
       "      <td>1.120000</td>\n",
       "      <td>3.170000</td>\n",
       "      <td>985.000000</td>\n",
       "    </tr>\n",
       "    <tr>\n",
       "      <th>max</th>\n",
       "      <td>14.830000</td>\n",
       "      <td>5.800000</td>\n",
       "      <td>3.230000</td>\n",
       "      <td>30.000000</td>\n",
       "      <td>162.000000</td>\n",
       "      <td>3.880000</td>\n",
       "      <td>5.080000</td>\n",
       "      <td>0.660000</td>\n",
       "      <td>3.580000</td>\n",
       "      <td>13.000000</td>\n",
       "      <td>1.710000</td>\n",
       "      <td>4.000000</td>\n",
       "      <td>1680.000000</td>\n",
       "    </tr>\n",
       "  </tbody>\n",
       "</table>\n",
       "</div>"
      ],
      "text/plain": [
       "          alcohol  malic_acid         ash  alcalinity_of_ash   magnesium  \\\n",
       "count  178.000000  178.000000  178.000000         178.000000  178.000000   \n",
       "mean    13.000618    2.336348    2.366517          19.494944   99.741573   \n",
       "std      0.811827    1.117146    0.274344           3.339564   14.282484   \n",
       "min     11.030000    0.740000    1.360000          10.600000   70.000000   \n",
       "25%     12.362500    1.602500    2.210000          17.200000   88.000000   \n",
       "50%     13.050000    1.865000    2.360000          19.500000   98.000000   \n",
       "75%     13.677500    3.082500    2.557500          21.500000  107.000000   \n",
       "max     14.830000    5.800000    3.230000          30.000000  162.000000   \n",
       "\n",
       "       total_phenols  flavanoids  nonflavanoid_phenols  proanthocyanins  \\\n",
       "count     178.000000  178.000000            178.000000       178.000000   \n",
       "mean        2.295112    2.029270              0.361854         1.590899   \n",
       "std         0.625851    0.998859              0.124453         0.572359   \n",
       "min         0.980000    0.340000              0.130000         0.410000   \n",
       "25%         1.742500    1.205000              0.270000         1.250000   \n",
       "50%         2.355000    2.135000              0.340000         1.555000   \n",
       "75%         2.800000    2.875000              0.437500         1.950000   \n",
       "max         3.880000    5.080000              0.660000         3.580000   \n",
       "\n",
       "       color_intensity         hue  od280/od315_of_diluted_wines      proline  \n",
       "count       178.000000  178.000000                    178.000000   178.000000  \n",
       "mean          5.058090    0.957449                      2.611685   746.893258  \n",
       "std           2.318286    0.228572                      0.709990   314.907474  \n",
       "min           1.280000    0.480000                      1.270000   278.000000  \n",
       "25%           3.220000    0.782500                      1.937500   500.500000  \n",
       "50%           4.690000    0.965000                      2.780000   673.500000  \n",
       "75%           6.200000    1.120000                      3.170000   985.000000  \n",
       "max          13.000000    1.710000                      4.000000  1680.000000  "
      ]
     },
     "execution_count": 31,
     "metadata": {},
     "output_type": "execute_result"
    }
   ],
   "source": [
    "data.describe()"
   ]
  },
  {
   "cell_type": "code",
   "execution_count": 32,
   "metadata": {},
   "outputs": [
    {
     "name": "stdout",
     "output_type": "stream",
     "text": [
      "<class 'pandas.core.frame.DataFrame'>\n",
      "RangeIndex: 178 entries, 0 to 177\n",
      "Data columns (total 13 columns):\n",
      " #   Column                        Non-Null Count  Dtype  \n",
      "---  ------                        --------------  -----  \n",
      " 0   alcohol                       178 non-null    float64\n",
      " 1   malic_acid                    178 non-null    float64\n",
      " 2   ash                           178 non-null    float64\n",
      " 3   alcalinity_of_ash             178 non-null    float64\n",
      " 4   magnesium                     178 non-null    float64\n",
      " 5   total_phenols                 178 non-null    float64\n",
      " 6   flavanoids                    178 non-null    float64\n",
      " 7   nonflavanoid_phenols          178 non-null    float64\n",
      " 8   proanthocyanins               178 non-null    float64\n",
      " 9   color_intensity               178 non-null    float64\n",
      " 10  hue                           178 non-null    float64\n",
      " 11  od280/od315_of_diluted_wines  178 non-null    float64\n",
      " 12  proline                       178 non-null    float64\n",
      "dtypes: float64(13)\n",
      "memory usage: 18.2 KB\n"
     ]
    }
   ],
   "source": [
    "data.info() #13개 변수 모두 실수 "
   ]
  },
  {
   "cell_type": "markdown",
   "metadata": {
    "colab": {},
    "colab_type": "code",
    "id": "JIZRKFAJ4UQW"
   },
   "source": [
    "# 비지도학습 - 군집분석(Clustering)\n",
    "- 비슷한 특성을 가진 데이터끼리 묶는다"
   ]
  },
  {
   "cell_type": "markdown",
   "metadata": {
    "colab": {},
    "colab_type": "code",
    "id": "JIZRKFAJ4UQW"
   },
   "source": [
    "## k-means 클러스터링\n",
    "- 각 클러스터에 할당된 데이터 포인트들의 평균 좌표를 이용해 중심점을 반복적으로 업데이트하며 클러스터를 형성하는 알고리즘 \n",
    "\n",
    "### k-means 클러스터링 알고리즘 3단계\n",
    "   - Step 1. 각 데이터 포인트 i 에 대해 가장 가까운 중심점을 찾고, 그 중심점에 해당하는 클러스터를 할당\n",
    "    <br>가까운 중심점을 찾을 때는, **유클리드 거리** 사용<br>\n",
    "     #### 유클리드 거리(Euclidean Distance) - 점과 점사이의 가장 짧은 거리를 계산하는 거리 측정방식\n",
    "$$D(x,y) = {\\sqrt{\\sum_{i=1}^{d}  (x_i - y_i)^2} } $$\n",
    "   - Step 2. 할당된 클러스터를 기반으로 새로운 중심점을 계산\n",
    "    <br>중심점은 클러스터 내부 점들 좌표의 **산술 평균(mean)** 사용<br>\n",
    "   - Step 3. 각 클러스터의 할당이 바뀌지 않을 때까지 반복"
   ]
  },
  {
   "cell_type": "markdown",
   "metadata": {},
   "source": [
    "## 차원 축소 - PCA\n",
    "\n",
    "- 1) PCA를 진행하기 전에 각 변수들의 값의 범위가 서로 다르므로 min-max 정규화를 통해 조정\n",
    "<br><br>\n",
    "- 2) PCA 진행\n",
    "   - wine 데이터는 13개의 컬럼으로 구성되므로, 13개의 차원으로 이루어진 벡터라고 볼 수 있다.\n",
    "   - 13차원은 우리 눈으로 볼 수 있도록 표현하기 어려우므로 \n",
    "   - 차원축소 기법인 PCA를 통해 2차원으로 변환"
   ]
  },
  {
   "cell_type": "markdown",
   "metadata": {},
   "source": [
    "###  1) min-max 정규화"
   ]
  },
  {
   "cell_type": "code",
   "execution_count": 56,
   "metadata": {},
   "outputs": [],
   "source": [
    "from sklearn.preprocessing import MinMaxScaler\n",
    "\n",
    "scaler = MinMaxScaler()\n",
    "data = scaler.fit_transform(data)"
   ]
  },
  {
   "cell_type": "code",
   "execution_count": 57,
   "metadata": {},
   "outputs": [
    {
     "data": {
      "text/plain": [
       "array([[0.84210526, 0.1916996 , 0.57219251, ..., 0.45528455, 0.97069597,\n",
       "        0.56134094],\n",
       "       [0.57105263, 0.2055336 , 0.4171123 , ..., 0.46341463, 0.78021978,\n",
       "        0.55064194],\n",
       "       [0.56052632, 0.3201581 , 0.70053476, ..., 0.44715447, 0.6959707 ,\n",
       "        0.64693295],\n",
       "       ...,\n",
       "       [0.58947368, 0.69960474, 0.48128342, ..., 0.08943089, 0.10622711,\n",
       "        0.39728959],\n",
       "       [0.56315789, 0.36561265, 0.54010695, ..., 0.09756098, 0.12820513,\n",
       "        0.40085592],\n",
       "       [0.81578947, 0.66403162, 0.73796791, ..., 0.10569106, 0.12087912,\n",
       "        0.20114123]])"
      ]
     },
     "execution_count": 57,
     "metadata": {},
     "output_type": "execute_result"
    }
   ],
   "source": [
    "data "
   ]
  },
  {
   "cell_type": "markdown",
   "metadata": {},
   "source": [
    "### 2) PCA"
   ]
  },
  {
   "cell_type": "code",
   "execution_count": 58,
   "metadata": {},
   "outputs": [],
   "source": [
    "from sklearn.decomposition import PCA\n",
    "\n",
    "pca = PCA(n_components=2)  # 2차원으로 축소\n",
    "data = pca.fit_transform(data)"
   ]
  },
  {
   "cell_type": "code",
   "execution_count": 59,
   "metadata": {},
   "outputs": [
    {
     "data": {
      "text/plain": [
       "(178, 2)"
      ]
     },
     "execution_count": 59,
     "metadata": {},
     "output_type": "execute_result"
    }
   ],
   "source": [
    "data.shape # 2차원로 변형"
   ]
  },
  {
   "cell_type": "code",
   "execution_count": 47,
   "metadata": {},
   "outputs": [
    {
     "data": {
      "text/plain": [
       "array([[ 3.18562979e+02,  2.14921307e+01],\n",
       "       [ 3.03097420e+02, -5.36471768e+00],\n",
       "       [ 4.38061133e+02, -6.53730945e+00],\n",
       "       [ 7.33240139e+02,  1.92729032e-01],\n",
       "       [-1.15714285e+01,  1.84899946e+01],\n",
       "       [ 7.03231192e+02, -3.32158674e-01],\n",
       "       [ 5.42971581e+02, -1.35189666e+01],\n",
       "       [ 5.48401860e+02,  1.14494324e+01],\n",
       "       [ 2.98036863e+02, -8.18015784e+00],\n",
       "       [ 2.98049553e+02, -7.10154294e+00],\n",
       "       [ 7.63079712e+02, -8.33431723e+00],\n",
       "       [ 5.32943228e+02, -1.42876338e+01],\n",
       "       [ 5.72834410e+02, -2.10050143e+01],\n",
       "       [ 4.02925358e+02, -1.61026352e+01],\n",
       "       [ 8.00053394e+02, -1.21184472e+01],\n",
       "       [ 5.63245578e+02,  2.21482866e+00],\n",
       "       [ 5.33379651e+02,  1.08048022e+01],\n",
       "       [ 3.83317591e+02,  8.47741982e+00],\n",
       "       [ 9.33118387e+02, -8.35447844e+00],\n",
       "       [ 9.84031775e+01,  1.43926594e+01],\n",
       "       [ 3.35935940e+01,  2.55679565e+01],\n",
       "       [ 2.31464375e+01,  1.81747309e+00],\n",
       "       [ 2.88093030e+02, -3.96304175e+00],\n",
       "       [ 2.67981513e+02, -9.57070401e+00],\n",
       "       [ 9.80198858e+01, -5.49584606e+00],\n",
       "       [ 8.34987440e+01,  2.28916215e+01],\n",
       "       [ 4.47925596e+02, -1.47973313e+01],\n",
       "       [ 5.37919165e+02, -1.53883461e+01],\n",
       "       [ 1.68210468e+02,  4.25531096e+00],\n",
       "       [ 2.88008247e+02, -8.95973155e+00],\n",
       "       [ 5.38026452e+02, -8.21273882e+00],\n",
       "       [ 7.68092939e+02, -7.37989737e+00],\n",
       "       [ 2.43150751e+02, -1.43914928e-01],\n",
       "       [ 4.88601280e+02,  2.35653250e+01],\n",
       "       [ 3.48231007e+02,  4.03808015e+00],\n",
       "       [ 1.73079957e+02, -2.79292165e+00],\n",
       "       [ 1.33286424e+02,  7.77272958e+00],\n",
       "       [ 3.58018559e+02, -8.15798412e+00],\n",
       "       [ 2.73044432e+02, -6.72507431e+00],\n",
       "       [ 1.36430021e+01,  2.78468321e+01],\n",
       "       [ 4.84296422e+01,  1.63219498e+01],\n",
       "       [ 2.87884092e+02, -1.48851185e+01],\n",
       "       [ 3.48095348e+02, -5.04342609e+00],\n",
       "       [-6.68146554e+01,  4.38482992e+00],\n",
       "       [ 1.38227010e+02,  4.73068836e+00],\n",
       "       [ 3.33254806e+02,  5.31933116e+00],\n",
       "       [ 3.18111848e+02, -3.48694494e+00],\n",
       "       [ 2.38111485e+02, -3.05152100e+00],\n",
       "       [ 3.13119915e+02, -2.30536316e+00],\n",
       "       [ 5.13187748e+02, -8.63759235e-01],\n",
       "       [ 4.02939017e+02, -1.50533028e+01],\n",
       "       [ 5.17928963e+02, -1.49975549e+01],\n",
       "       [ 4.43266411e+02,  3.26050204e+00],\n",
       "       [ 6.28286071e+02,  4.04114538e+00],\n",
       "       [ 3.13397613e+02,  1.26089135e+01],\n",
       "       [ 3.73333291e+02,  9.66419863e+00],\n",
       "       [ 2.23417106e+02,  1.42168924e+01],\n",
       "       [ 5.23072851e+02, -7.09662526e+00],\n",
       "       [ 5.38182097e+02, -1.35678013e+00],\n",
       "       [-2.27032690e+02, -7.99496797e+00],\n",
       "       [-6.68501220e+01,  2.31986654e+00],\n",
       "       [-2.96824437e+02,  5.46847570e+00],\n",
       "       [-1.16970473e+02, -3.72638342e+00],\n",
       "       [-3.27059126e+02, -6.94813081e+00],\n",
       "       [-3.91752486e+02,  1.11716783e+01],\n",
       "       [-6.89057604e+01, -5.58620537e-01],\n",
       "       [-2.45212524e+02, -1.74936393e+01],\n",
       "       [-2.37241410e+02, -1.75310256e+01],\n",
       "       [ 3.29615599e+00,  1.00958116e+01],\n",
       "       [-2.79661207e+01,  5.16301252e+01],\n",
       "       [ 1.23130138e+02,  1.05983451e+00],\n",
       "       [-3.37104122e+02, -7.62385512e+00],\n",
       "       [-2.75096026e+02, -7.75315213e+00],\n",
       "       [ 2.38716757e+02,  3.52518274e+01],\n",
       "       [ 1.39094057e+02, -1.20747620e+00],\n",
       "       [-3.18876329e+02,  2.81077113e+00],\n",
       "       [-3.55060253e+02, -7.53070183e+00],\n",
       "       [-2.46633597e+02,  1.65584367e+01],\n",
       "       [ 3.77168966e+00,  3.60310924e+01],\n",
       "       [-2.83842248e+02,  6.36186080e+00],\n",
       "       [-4.69059350e+02, -5.45892398e+00],\n",
       "       [-3.31313392e+01, -1.31871050e+01],\n",
       "       [-1.17290392e+02, -1.95786125e+01],\n",
       "       [-2.32132988e+02, -1.05301033e+01],\n",
       "       [-2.26953299e+02, -1.77605879e+00],\n",
       "       [-2.96852152e+02,  4.45280309e+00],\n",
       "       [-2.52046392e+02, -5.21261759e+00],\n",
       "       [-1.85108857e+02, -8.31858202e+00],\n",
       "       [-6.71807518e+01, -1.45246902e+01],\n",
       "       [-1.22431326e+02, -2.75040387e+01],\n",
       "       [-2.67185333e+02, -1.40538901e+01],\n",
       "       [-2.97104415e+02, -8.41503161e+00],\n",
       "       [-2.52213885e+02, -1.52515702e+01],\n",
       "       [-4.57022215e+02, -3.69733793e+00],\n",
       "       [-4.01851274e+02,  5.33140022e+00],\n",
       "       [ 1.91183397e+02,  5.87937624e+01],\n",
       "       [-1.21279178e+02,  3.64175149e+01],\n",
       "       [-3.19088273e+02, -9.19307820e+00],\n",
       "       [-8.70802926e+01, -1.02265727e+01],\n",
       "       [-3.41040900e+02, -5.75056559e+00],\n",
       "       [-3.69316146e+01, -2.17041593e+00],\n",
       "       [-1.85073713e+02, -8.52051902e+00],\n",
       "       [-3.08882387e+02,  3.75165655e+00],\n",
       "       [-3.32089296e+02, -7.88372875e+00],\n",
       "       [-7.51531378e+01, -1.34138279e+01],\n",
       "       [-4.32009742e+02, -2.03294673e+00],\n",
       "       [-2.37206697e+02, -1.55619679e+01],\n",
       "       [-2.59148368e+02, -1.10788163e+01],\n",
       "       [-4.34957780e+02, -5.95260295e-02],\n",
       "       [-6.69906958e+01, -4.57145764e+00],\n",
       "       [-1.84736439e+02,  1.05164632e+01],\n",
       "       [-4.22042874e+02, -4.24492194e+00],\n",
       "       [-1.39818663e+02,  5.73555207e+00],\n",
       "       [-3.13060948e+02, -6.16709401e+00],\n",
       "       [-3.62129633e+02, -9.25929540e+00],\n",
       "       [-3.40115006e+02, -8.68973443e+00],\n",
       "       [-2.52109472e+02, -9.27587015e+00],\n",
       "       [-4.01695973e+02,  1.54258903e+01],\n",
       "       [-3.75171092e+02, -1.31850503e+01],\n",
       "       [-1.83097929e+02, -9.55354432e+00],\n",
       "       [-1.21945241e+02, -1.58889428e+00],\n",
       "       [-2.81534569e+02,  2.45082612e+01],\n",
       "       [-3.81826778e+02,  9.18910976e+00],\n",
       "       [-3.67089380e+02, -7.18821589e+00],\n",
       "       [-3.67157175e+02, -1.11963202e+01],\n",
       "       [-3.69103601e+02, -8.17580491e+00],\n",
       "       [-3.95078836e+02, -6.67983187e+00],\n",
       "       [-2.81030369e+02, -2.53586007e+00],\n",
       "       [-4.05061288e+02, -4.45107367e+00],\n",
       "       [-1.67237642e+02, -1.67311857e+01],\n",
       "       [-1.16473000e+02,  2.42660201e+01],\n",
       "       [-2.16784540e+02,  8.13044956e+00],\n",
       "       [-1.86915112e+02,  1.71005736e+00],\n",
       "       [-1.46769530e+02,  8.92033411e+00],\n",
       "       [-9.71329736e+01, -1.30582838e+01],\n",
       "       [-5.19820469e+01, -4.81229310e+00],\n",
       "       [-2.70979307e+01, -1.02299962e+01],\n",
       "       [-2.31951534e+02,  5.34907410e-01],\n",
       "       [-1.67076246e+02, -8.75672311e+00],\n",
       "       [-1.56868045e+02,  4.16316249e+00],\n",
       "       [-1.46946490e+02, -1.09672896e+00],\n",
       "       [ 3.29042927e+01, -1.13053656e+01],\n",
       "       [-2.26926210e+02,  1.38827837e+00],\n",
       "       [-1.97004347e+02, -4.22842870e+00],\n",
       "       [ 1.08312677e+02,  1.03513304e+01],\n",
       "       [ 8.31182626e+01,  8.06869695e-01],\n",
       "       [-3.32195840e+02, -1.38132989e+01],\n",
       "       [-1.22126092e+02, -1.14699259e+01],\n",
       "       [-9.70193893e+01, -5.90644258e+00],\n",
       "       [-1.96624807e+02,  1.68731139e+01],\n",
       "       [-2.46449199e+02,  2.78100954e+01],\n",
       "       [-2.66628788e+02,  1.71502320e+01],\n",
       "       [-3.21570741e+02,  2.21643401e+01],\n",
       "       [-7.18976587e+01, -3.99656400e-01],\n",
       "       [-1.06816618e+02,  5.20612307e+00],\n",
       "       [-2.20202568e+01, -6.22943925e+00],\n",
       "       [-2.67031732e+02, -5.92308914e+00],\n",
       "       [ 1.32999841e+02, -4.86770544e+00],\n",
       "       [-8.69139986e+01,  7.96357772e-02],\n",
       "       [-1.27061290e+02, -8.29141684e+00],\n",
       "       [-2.27068836e+02, -7.61863030e+00],\n",
       "       [-6.67554312e+01,  8.47028990e+00],\n",
       "       [-1.76765098e+02,  9.47319000e+00],\n",
       "       [-7.17683979e+01,  7.51063784e+00],\n",
       "       [-1.32048248e+02, -7.25503031e+00],\n",
       "       [-2.27077845e+02, -7.59337930e+00],\n",
       "       [-5.16895065e+01,  1.23580850e+01],\n",
       "       [-6.20850111e+01, -1.05540153e+01],\n",
       "       [ 3.18276465e+00,  5.39136150e+00],\n",
       "       [-1.16674818e+02,  1.45333703e+01],\n",
       "       [-2.36921208e+02,  4.63036998e-01],\n",
       "       [-2.77083578e+02, -8.74033191e+00],\n",
       "       [-8.70274026e+01, -7.10459575e+00],\n",
       "       [-6.98021096e+00, -4.54113657e+00],\n",
       "       [ 3.13160468e+00,  2.33519051e+00],\n",
       "       [ 8.84580737e+01,  1.87762846e+01],\n",
       "       [ 9.34562419e+01,  1.86708191e+01],\n",
       "       [-1.86943190e+02, -2.13330803e-01]])"
      ]
     },
     "execution_count": 47,
     "metadata": {},
     "output_type": "execute_result"
    }
   ],
   "source": [
    "data"
   ]
  },
  {
   "cell_type": "markdown",
   "metadata": {},
   "source": [
    "## k-means 클러스터링"
   ]
  },
  {
   "cell_type": "markdown",
   "metadata": {},
   "source": [
    "### 1) 모델 불러오기 및 정의하기\n",
    "- 3개의 군집을 형성(n_clusters=3)"
   ]
  },
  {
   "cell_type": "code",
   "execution_count": 60,
   "metadata": {},
   "outputs": [],
   "source": [
    "from sklearn.cluster import KMeans\n",
    "\n",
    "kmeans = KMeans(n_clusters=3) "
   ]
  },
  {
   "cell_type": "markdown",
   "metadata": {},
   "source": [
    "### 2) 모델 학습하기 (클러스터링을 통한 중심점 찾기)"
   ]
  },
  {
   "cell_type": "code",
   "execution_count": 61,
   "metadata": {},
   "outputs": [
    {
     "data": {
      "text/plain": [
       "KMeans(algorithm='auto', copy_x=True, init='k-means++', max_iter=300,\n",
       "       n_clusters=3, n_init=10, n_jobs=None, precompute_distances='auto',\n",
       "       random_state=None, tol=0.0001, verbose=0)"
      ]
     },
     "execution_count": 61,
     "metadata": {},
     "output_type": "execute_result"
    }
   ],
   "source": [
    "kmeans.fit(data)"
   ]
  },
  {
   "cell_type": "markdown",
   "metadata": {},
   "source": [
    "### 3) 클러스터 할당"
   ]
  },
  {
   "cell_type": "code",
   "execution_count": 66,
   "metadata": {},
   "outputs": [],
   "source": [
    "cluster = kmeans.predict(data) "
   ]
  },
  {
   "cell_type": "code",
   "execution_count": 63,
   "metadata": {},
   "outputs": [
    {
     "data": {
      "text/plain": [
       "array([1, 1, 1, 1, 1, 1, 1, 1, 1, 1, 1, 1, 1, 1, 1, 1, 1, 1, 1, 1, 1, 1,\n",
       "       1, 1, 1, 1, 1, 1, 1, 1, 1, 1, 1, 1, 1, 1, 1, 1, 1, 1, 1, 1, 1, 1,\n",
       "       1, 1, 1, 1, 1, 1, 1, 1, 1, 1, 1, 1, 1, 1, 1, 2, 2, 0, 2, 2, 2, 2,\n",
       "       1, 2, 2, 2, 2, 1, 2, 1, 1, 2, 2, 2, 2, 2, 2, 2, 2, 0, 2, 2, 2, 2,\n",
       "       2, 2, 2, 2, 2, 2, 2, 1, 2, 2, 1, 2, 2, 2, 2, 2, 2, 2, 2, 2, 2, 2,\n",
       "       2, 2, 2, 2, 2, 2, 2, 2, 0, 2, 2, 2, 2, 2, 2, 2, 2, 2, 2, 2, 0, 0,\n",
       "       0, 0, 0, 0, 0, 0, 0, 0, 0, 0, 0, 0, 0, 0, 0, 0, 0, 0, 0, 0, 0, 0,\n",
       "       0, 0, 0, 0, 0, 0, 0, 0, 0, 0, 0, 0, 0, 0, 0, 0, 0, 0, 0, 0, 0, 0,\n",
       "       0, 0])"
      ]
     },
     "execution_count": 63,
     "metadata": {},
     "output_type": "execute_result"
    }
   ],
   "source": [
    "cluster"
   ]
  },
  {
   "cell_type": "markdown",
   "metadata": {},
   "source": [
    "### 4) 결과 살펴보기 - scatter plot"
   ]
  },
  {
   "cell_type": "code",
   "execution_count": 64,
   "metadata": {},
   "outputs": [
    {
     "data": {
      "image/png": "[encoded data removed]",
      "text/plain": [
       "<Figure size 432x288 with 1 Axes>"
      ]
     },
     "metadata": {
      "needs_background": "light"
     },
     "output_type": "display_data"
    }
   ],
   "source": [
    "plt.scatter(data[:, 0], data[:, 1], c=cluster, linewidth=1, edgecolor='black')\n",
    "plt.show()"
   ]
  },
  {
   "cell_type": "markdown",
   "metadata": {},
   "source": [
    "## 군집분석의 모델평가(Evaluation) : 실루엣(Silhouette)   \n",
    "+ 실루엣 값은 한 클러스터 안의 데이터들이 다른 클러스터와 비교해서 얼마나 비슷한가를 나타냄<br>\n",
    "+ 같은 클러스터 내의 점들간 거리는 가깝고, 서로 다른 클러스터 간의 거리는 멀수록 높은 값을 얻을 수 있다.\n",
    "+ 일반적으로 실루엣 값이 0.5보다 크다면 데이터가 잘 클러스터링 되었다는 것을 나타냄"
   ]
  },
  {
   "cell_type": "markdown",
   "metadata": {},
   "source": [
    "### k-means의 실루엣"
   ]
  },
  {
   "cell_type": "code",
   "execution_count": 65,
   "metadata": {},
   "outputs": [
    {
     "name": "stdout",
     "output_type": "stream",
     "text": [
      "클러스터의 수 : 2, 실루엣 점수 : 0.49\n",
      "클러스터의 수 : 3, 실루엣 점수 : 0.57\n",
      "클러스터의 수 : 4, 실루엣 점수 : 0.49\n",
      "클러스터의 수 : 5, 실루엣 점수 : 0.45\n",
      "클러스터의 수 : 6, 실루엣 점수 : 0.43\n",
      "클러스터의 수 : 7, 실루엣 점수 : 0.39\n",
      "클러스터의 수 : 8, 실루엣 점수 : 0.40\n",
      "클러스터의 수 : 9, 실루엣 점수 : 0.38\n",
      "클러스터의 수 : 10, 실루엣 점수 : 0.41\n",
      "가장 높은 실루엣 점수를 가진 클러스터 수 : 3, 실루엣 점수 : 0.57\n"
     ]
    }
   ],
   "source": [
    "from sklearn.metrics import silhouette_score\n",
    "\n",
    "best_n = 1\n",
    "best_score = -1\n",
    "\n",
    "for n_cluster in range(2, 11):\n",
    "    kmeans = KMeans(n_clusters=n_cluster)\n",
    "    kmeans.fit(data)\n",
    "    cluster = kmeans.predict(data)\n",
    "    score = silhouette_score(data, cluster)\n",
    "    \n",
    "    print('클러스터의 수 : {}, 실루엣 점수 : {:.2f}'.format(n_cluster, score))\n",
    "    if score > best_score :\n",
    "        best_n = n_cluster\n",
    "        best_score = score\n",
    "        \n",
    "print('가장 높은 실루엣 점수를 가진 클러스터 수 : {}, 실루엣 점수 : {:.2f}'.format(best_n, best_score))\n"
   ]
  },
  {
   "cell_type": "code",
   "execution_count": null,
   "metadata": {},
   "outputs": [],
   "source": []
  }
 ],
 "metadata": {
  "colab": {
   "collapsed_sections": [],
   "name": "Lab_02) Clustering.ipynb",
   "provenance": [],
   "version": "0.3.2"
  },
  "kernelspec": {
   "display_name": "Python 3 (ipykernel)",
   "language": "python",
   "name": "python3"
  },
  "language_info": {
   "codemirror_mode": {
    "name": "ipython",
    "version": 3
   },
   "file_extension": ".py",
   "mimetype": "text/x-python",
   "name": "python",
   "nbconvert_exporter": "python",
   "pygments_lexer": "ipython3",
   "version": "3.9.13"
  }
 },
 "nbformat": 4,
 "nbformat_minor": 2
}
